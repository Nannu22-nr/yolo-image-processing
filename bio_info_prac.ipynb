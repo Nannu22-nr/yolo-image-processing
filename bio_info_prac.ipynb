{
 "cells": [
  {
   "cell_type": "code",
   "execution_count": 2,
   "metadata": {},
   "outputs": [
    {
     "name": "stdout",
     "output_type": "stream",
     "text": [
      "A -> 21.4% length: 3\n",
      "C: 28.6% length: 4\n",
      "G: 28.6% length: 4\n",
      "T: 21.4% length: 3\n"
     ]
    }
   ],
   "source": [
    "seq = input(\"Enter a DNA sequence: \")\n",
    "seq = seq.upper()\n",
    "\n",
    "# Count the number of each base in the sequence\n",
    "num_A = seq.count('A')\n",
    "num_C = seq.count('C')\n",
    "num_G = seq.count('G')\n",
    "num_T = seq.count('T')\n",
    "\n",
    "# percententages  \n",
    "\n",
    "total = num_A + num_C + num_G + num_T\n",
    "percent_A = num_A / total * 100\n",
    "percent_C = num_C / total * 100\n",
    "percent_G = num_G / total * 100\n",
    "percent_T = num_T / total * 100\n",
    "\n",
    "print(\"A -> {:.1f}%\".format(percent_A), 'length:', num_A)\n",
    "print(\"C: {:.1f}%\".format(percent_C), 'length:', num_C)\n",
    "print(\"G: {:.1f}%\".format(percent_G), 'length:', num_G)\n",
    "print(\"T: {:.1f}%\".format(percent_T), 'length:', num_T)\n"
   ]
  },
  {
   "cell_type": "code",
   "execution_count": 3,
   "metadata": {},
   "outputs": [
    {
     "name": "stdout",
     "output_type": "stream",
     "text": [
      "The temperature in Fahrenheit is: 98.402\n"
     ]
    }
   ],
   "source": [
    "c = input(\"Enter the temperature in Celsius: \") \n",
    "\n",
    "f = (9/5) * float(c) + 32\n",
    "\n",
    "print(\"The temperature in Fahrenheit is:\", f)"
   ]
  },
  {
   "cell_type": "code",
   "execution_count": 5,
   "metadata": {},
   "outputs": [
    {
     "name": "stdout",
     "output_type": "stream",
     "text": [
      "The hypotenuse of a triangle with sides of length 3 and 5 is: 5.0\n"
     ]
    }
   ],
   "source": [
    "a = 3\n",
    "b = 4\n",
    "\n",
    "import math\n",
    "\n",
    "c = math.sqrt(a**2 + b**2)\n",
    "\n",
    "print(\"The hypotenuse of a triangle with sides of length 3 and 5 is:\", c)"
   ]
  },
  {
   "cell_type": "code",
   "execution_count": 6,
   "metadata": {},
   "outputs": [
    {
     "data": {
      "text/plain": [
       "'A,DWMFKRE'"
      ]
     },
     "execution_count": 6,
     "metadata": {},
     "output_type": "execute_result"
    }
   ],
   "source": [
    "x = input(\"Enter a string: \")\n",
    "\n",
    "x = x.upper()\n",
    "x"
   ]
  },
  {
   "cell_type": "code",
   "execution_count": 9,
   "metadata": {},
   "outputs": [
    {
     "name": "stdout",
     "output_type": "stream",
     "text": [
      "This is not a palindrome\n"
     ]
    }
   ],
   "source": [
    "x = 'nannu'\n",
    "y = x[::-1]\n",
    "\n",
    "if x == y:\n",
    "    print(\"This is a palindrome\")\n",
    "\n",
    "else:  \n",
    "    print(\"This is not a palindrome\")"
   ]
  },
  {
   "cell_type": "code",
   "execution_count": 11,
   "metadata": {},
   "outputs": [
    {
     "name": "stdout",
     "output_type": "stream",
     "text": [
      "3 is the largest number\n"
     ]
    }
   ],
   "source": [
    "a, b, c = input(\"Enter three numbers: \").split()\n",
    "\n",
    "if a>b and a>c:\n",
    "    print(a, \"is the largest number\")\n",
    "\n",
    "elif b>a and b>c:\n",
    "    print(b, \"is the largest number\")\n",
    "\n",
    "else:\n",
    "    print(c, \"is the largest number\")"
   ]
  },
  {
   "cell_type": "code",
   "execution_count": 12,
   "metadata": {},
   "outputs": [
    {
     "data": {
      "text/plain": [
       "55"
      ]
     },
     "execution_count": 12,
     "metadata": {},
     "output_type": "execute_result"
    }
   ],
   "source": [
    "a = [1, 2, 3, 4, 5, 6, 7, 8, 9, 10]\n",
    "\n",
    "b = sum(a)\n",
    "b"
   ]
  },
  {
   "cell_type": "code",
   "execution_count": 13,
   "metadata": {},
   "outputs": [
    {
     "data": {
      "text/plain": [
       "10"
      ]
     },
     "execution_count": 13,
     "metadata": {},
     "output_type": "execute_result"
    }
   ],
   "source": [
    "c = max(a)\n",
    "c"
   ]
  },
  {
   "cell_type": "code",
   "execution_count": 15,
   "metadata": {},
   "outputs": [
    {
     "data": {
      "text/plain": [
       "5.5"
      ]
     },
     "execution_count": 15,
     "metadata": {},
     "output_type": "execute_result"
    }
   ],
   "source": [
    "from statistics import mean\n",
    "d = mean(a)\n",
    "d"
   ]
  },
  {
   "cell_type": "code",
   "execution_count": 16,
   "metadata": {},
   "outputs": [
    {
     "data": {
      "text/plain": [
       "5.5"
      ]
     },
     "execution_count": 16,
     "metadata": {},
     "output_type": "execute_result"
    }
   ],
   "source": [
    "d = len(a)\n",
    "d = b/d \n",
    "d"
   ]
  },
  {
   "cell_type": "code",
   "execution_count": 21,
   "metadata": {},
   "outputs": [
    {
     "name": "stdout",
     "output_type": "stream",
     "text": [
      "0\n",
      "0\n",
      "0\n",
      "0\n",
      "0\n",
      "1\n",
      "2\n",
      "3\n",
      "4\n",
      "5\n"
     ]
    }
   ],
   "source": [
    "# calculate the number of elements in the list larger than a threshold passed as argu\n",
    "# ment;\n",
    "\n",
    "x = 5 \n",
    "s = 0\n",
    "for i in a:\n",
    "    if i > x:\n",
    "        s += 1\n",
    "    print(s)\n",
    "\n",
    "    \n"
   ]
  },
  {
   "cell_type": "code",
   "execution_count": null,
   "metadata": {},
   "outputs": [],
   "source": []
  }
 ],
 "metadata": {
  "kernelspec": {
   "display_name": "Python 3",
   "language": "python",
   "name": "python3"
  },
  "language_info": {
   "codemirror_mode": {
    "name": "ipython",
    "version": 3
   },
   "file_extension": ".py",
   "mimetype": "text/x-python",
   "name": "python",
   "nbconvert_exporter": "python",
   "pygments_lexer": "ipython3",
   "version": "3.11.9"
  }
 },
 "nbformat": 4,
 "nbformat_minor": 2
}
